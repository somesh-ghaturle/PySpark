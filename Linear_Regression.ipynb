{
  "nbformat": 4,
  "nbformat_minor": 0,
  "metadata": {
    "colab": {
      "name": "Linear Regression.ipynb",
      "provenance": [],
      "authorship_tag": "ABX9TyOJ7Cleg7VD8PlyxYvVPqQV",
      "include_colab_link": true
    },
    "kernelspec": {
      "name": "python3",
      "display_name": "Python 3"
    }
  },
  "cells": [
    {
      "cell_type": "markdown",
      "metadata": {
        "id": "view-in-github",
        "colab_type": "text"
      },
      "source": [
        "<a href=\"https://colab.research.google.com/github/somesh-ghaturle/PySpark/blob/master/Linear_Regression.ipynb\" target=\"_parent\"><img src=\"https://colab.research.google.com/assets/colab-badge.svg\" alt=\"Open In Colab\"/></a>"
      ]
    },
    {
      "cell_type": "code",
      "metadata": {
        "id": "fM4LzRuF65HO",
        "colab_type": "code",
        "colab": {
          "base_uri": "https://localhost:8080/",
          "height": 263
        },
        "outputId": "c6991e96-60c7-4aa6-d07e-9620d12d9722"
      },
      "source": [
        "!pip install pyspark"
      ],
      "execution_count": 3,
      "outputs": [
        {
          "output_type": "stream",
          "text": [
            "Collecting pyspark\n",
            "\u001b[?25l  Downloading https://files.pythonhosted.org/packages/f0/26/198fc8c0b98580f617cb03cb298c6056587b8f0447e20fa40c5b634ced77/pyspark-3.0.1.tar.gz (204.2MB)\n",
            "\u001b[K     |████████████████████████████████| 204.2MB 63kB/s \n",
            "\u001b[?25hCollecting py4j==0.10.9\n",
            "\u001b[?25l  Downloading https://files.pythonhosted.org/packages/9e/b6/6a4fb90cd235dc8e265a6a2067f2a2c99f0d91787f06aca4bcf7c23f3f80/py4j-0.10.9-py2.py3-none-any.whl (198kB)\n",
            "\u001b[K     |████████████████████████████████| 204kB 46.2MB/s \n",
            "\u001b[?25hBuilding wheels for collected packages: pyspark\n",
            "  Building wheel for pyspark (setup.py) ... \u001b[?25l\u001b[?25hdone\n",
            "  Created wheel for pyspark: filename=pyspark-3.0.1-py2.py3-none-any.whl size=204612243 sha256=72b3f8aacc5e9e6be3d457e7ea127be2b57c2448119bf7d6b88bc49aaa98bc71\n",
            "  Stored in directory: /root/.cache/pip/wheels/5e/bd/07/031766ca628adec8435bb40f0bd83bb676ce65ff4007f8e73f\n",
            "Successfully built pyspark\n",
            "Installing collected packages: py4j, pyspark\n",
            "Successfully installed py4j-0.10.9 pyspark-3.0.1\n"
          ],
          "name": "stdout"
        }
      ]
    },
    {
      "cell_type": "code",
      "metadata": {
        "id": "LsehUy_1wunz",
        "colab_type": "code",
        "colab": {}
      },
      "source": [
        "import pyspark \n",
        "from pyspark.sql import SparkSession \n",
        "#SparkSession is now the entry point of Spark \n",
        "#SparkSession can also be construed as gateway to spark libraries "
      ],
      "execution_count": 6,
      "outputs": []
    },
    {
      "cell_type": "code",
      "metadata": {
        "id": "fWYc6BwC8sxV",
        "colab_type": "code",
        "colab": {}
      },
      "source": [
        "#create instance of spark class \n",
        "spark=SparkSession.builder.appName('housing_price_model').getOrCreate() "
      ],
      "execution_count": 7,
      "outputs": []
    },
    {
      "cell_type": "code",
      "metadata": {
        "id": "qI9EwQkC8s0X",
        "colab_type": "code",
        "colab": {}
      },
      "source": [
        "#create spark dataframe of input csv file \n",
        "df=spark.read.csv('/content/cruise_ship_info.csv'\n",
        "                  ,inferSchema=True,header=True) "
      ],
      "execution_count": 8,
      "outputs": []
    },
    {
      "cell_type": "code",
      "metadata": {
        "id": "W8JTnCr08ss2",
        "colab_type": "code",
        "colab": {
          "base_uri": "https://localhost:8080/",
          "height": 55
        },
        "outputId": "26c4abd4-1dc1-4cc0-ebae-23537ce9a18d"
      },
      "source": [
        "df"
      ],
      "execution_count": 9,
      "outputs": [
        {
          "output_type": "execute_result",
          "data": {
            "text/plain": [
              "DataFrame[Ship_name: string, Cruise_line: string, Age: int, Tonnage: double, passengers: double, length: double, cabins: double, passenger_density: double, crew: double]"
            ]
          },
          "metadata": {
            "tags": []
          },
          "execution_count": 9
        }
      ]
    },
    {
      "cell_type": "code",
      "metadata": {
        "id": "exNX1jGS89RA",
        "colab_type": "code",
        "colab": {
          "base_uri": "https://localhost:8080/",
          "height": 468
        },
        "outputId": "c64b27ee-682c-436d-887f-79d651a239c2"
      },
      "source": [
        "df.show()"
      ],
      "execution_count": 10,
      "outputs": [
        {
          "output_type": "stream",
          "text": [
            "+-----------+-----------+---+------------------+----------+------+------+-----------------+----+\n",
            "|  Ship_name|Cruise_line|Age|           Tonnage|passengers|length|cabins|passenger_density|crew|\n",
            "+-----------+-----------+---+------------------+----------+------+------+-----------------+----+\n",
            "|    Journey|    Azamara|  6|30.276999999999997|      6.94|  5.94|  3.55|            42.64|3.55|\n",
            "|      Quest|    Azamara|  6|30.276999999999997|      6.94|  5.94|  3.55|            42.64|3.55|\n",
            "|Celebration|   Carnival| 26|            47.262|     14.86|  7.22|  7.43|             31.8| 6.7|\n",
            "|   Conquest|   Carnival| 11|             110.0|     29.74|  9.53| 14.88|            36.99|19.1|\n",
            "|    Destiny|   Carnival| 17|           101.353|     26.42|  8.92| 13.21|            38.36|10.0|\n",
            "|    Ecstasy|   Carnival| 22|            70.367|     20.52|  8.55|  10.2|            34.29| 9.2|\n",
            "|    Elation|   Carnival| 15|            70.367|     20.52|  8.55|  10.2|            34.29| 9.2|\n",
            "|    Fantasy|   Carnival| 23|            70.367|     20.56|  8.55| 10.22|            34.23| 9.2|\n",
            "|Fascination|   Carnival| 19|            70.367|     20.52|  8.55|  10.2|            34.29| 9.2|\n",
            "|    Freedom|   Carnival|  6|110.23899999999999|      37.0|  9.51| 14.87|            29.79|11.5|\n",
            "|      Glory|   Carnival| 10|             110.0|     29.74|  9.51| 14.87|            36.99|11.6|\n",
            "|    Holiday|   Carnival| 28|            46.052|     14.52|  7.27|  7.26|            31.72| 6.6|\n",
            "|Imagination|   Carnival| 18|            70.367|     20.52|  8.55|  10.2|            34.29| 9.2|\n",
            "|Inspiration|   Carnival| 17|            70.367|     20.52|  8.55|  10.2|            34.29| 9.2|\n",
            "|     Legend|   Carnival| 11|              86.0|     21.24|  9.63| 10.62|            40.49| 9.3|\n",
            "|   Liberty*|   Carnival|  8|             110.0|     29.74|  9.51| 14.87|            36.99|11.6|\n",
            "|    Miracle|   Carnival|  9|              88.5|     21.24|  9.63| 10.62|            41.67|10.3|\n",
            "|   Paradise|   Carnival| 15|            70.367|     20.52|  8.55|  10.2|            34.29| 9.2|\n",
            "|      Pride|   Carnival| 12|              88.5|     21.24|  9.63| 11.62|            41.67| 9.3|\n",
            "|  Sensation|   Carnival| 20|            70.367|     20.52|  8.55|  10.2|            34.29| 9.2|\n",
            "+-----------+-----------+---+------------------+----------+------+------+-----------------+----+\n",
            "only showing top 20 rows\n",
            "\n"
          ],
          "name": "stdout"
        }
      ]
    },
    {
      "cell_type": "code",
      "metadata": {
        "id": "oMozQxpt9AsS",
        "colab_type": "code",
        "colab": {
          "base_uri": "https://localhost:8080/",
          "height": 208
        },
        "outputId": "a78c4d84-083b-4092-e7df-5391270a4754"
      },
      "source": [
        "#prints structure of dataframe along with datatype \n",
        "df.printSchema() "
      ],
      "execution_count": 11,
      "outputs": [
        {
          "output_type": "stream",
          "text": [
            "root\n",
            " |-- Ship_name: string (nullable = true)\n",
            " |-- Cruise_line: string (nullable = true)\n",
            " |-- Age: integer (nullable = true)\n",
            " |-- Tonnage: double (nullable = true)\n",
            " |-- passengers: double (nullable = true)\n",
            " |-- length: double (nullable = true)\n",
            " |-- cabins: double (nullable = true)\n",
            " |-- passenger_density: double (nullable = true)\n",
            " |-- crew: double (nullable = true)\n",
            "\n"
          ],
          "name": "stdout"
        }
      ]
    },
    {
      "cell_type": "code",
      "metadata": {
        "id": "PgtZZ7AP9NcT",
        "colab_type": "code",
        "colab": {
          "base_uri": "https://localhost:8080/",
          "height": 173
        },
        "outputId": "0012c0fa-4cb3-45de-ceb7-6864a9c8dcc1"
      },
      "source": [
        "#In our predictive model, below are the columns \n",
        "df.columns "
      ],
      "execution_count": 12,
      "outputs": [
        {
          "output_type": "execute_result",
          "data": {
            "text/plain": [
              "['Ship_name',\n",
              " 'Cruise_line',\n",
              " 'Age',\n",
              " 'Tonnage',\n",
              " 'passengers',\n",
              " 'length',\n",
              " 'cabins',\n",
              " 'passenger_density',\n",
              " 'crew']"
            ]
          },
          "metadata": {
            "tags": []
          },
          "execution_count": 12
        }
      ]
    },
    {
      "cell_type": "code",
      "metadata": {
        "id": "UcgkkyTS9RO0",
        "colab_type": "code",
        "colab": {
          "base_uri": "https://localhost:8080/",
          "height": 297
        },
        "outputId": "86a54efd-fd3b-40aa-ec69-9471424af09f"
      },
      "source": [
        "#columns identified as features are as below: \n",
        "#['Cruise_line','Age','Tonnage','passengers','length','cabins','passenger_density'] \n",
        "#to work on the features, spark MLlib expects every value to be in numeric form \n",
        "#feature 'Cruise_line is string datatype \n",
        "#using StringIndexer, string type will be typecast to numeric datatype \n",
        "#import library strinindexer for typecasting \n",
        "  \n",
        "from pyspark.ml.feature import StringIndexer \n",
        "indexer=StringIndexer(inputCol='Cruise_line',outputCol='cruise_cat') \n",
        "indexed=indexer.fit(df).transform(df) \n",
        "  \n",
        "#above code will convert string to numeric feature and create a new dataframe \n",
        "#new dataframe contains a new feature 'cruise_cat' and can be used further \n",
        "#feature cruise_cat is now vectorized and can be used to fed to model \n",
        "for item in indexed.head(5): \n",
        "    print(item) \n",
        "    print('\\n') "
      ],
      "execution_count": 13,
      "outputs": [
        {
          "output_type": "stream",
          "text": [
            "Row(Ship_name='Journey', Cruise_line='Azamara', Age=6, Tonnage=30.276999999999997, passengers=6.94, length=5.94, cabins=3.55, passenger_density=42.64, crew=3.55, cruise_cat=16.0)\n",
            "\n",
            "\n",
            "Row(Ship_name='Quest', Cruise_line='Azamara', Age=6, Tonnage=30.276999999999997, passengers=6.94, length=5.94, cabins=3.55, passenger_density=42.64, crew=3.55, cruise_cat=16.0)\n",
            "\n",
            "\n",
            "Row(Ship_name='Celebration', Cruise_line='Carnival', Age=26, Tonnage=47.262, passengers=14.86, length=7.22, cabins=7.43, passenger_density=31.8, crew=6.7, cruise_cat=1.0)\n",
            "\n",
            "\n",
            "Row(Ship_name='Conquest', Cruise_line='Carnival', Age=11, Tonnage=110.0, passengers=29.74, length=9.53, cabins=14.88, passenger_density=36.99, crew=19.1, cruise_cat=1.0)\n",
            "\n",
            "\n",
            "Row(Ship_name='Destiny', Cruise_line='Carnival', Age=17, Tonnage=101.353, passengers=26.42, length=8.92, cabins=13.21, passenger_density=38.36, crew=10.0, cruise_cat=1.0)\n",
            "\n",
            "\n"
          ],
          "name": "stdout"
        }
      ]
    },
    {
      "cell_type": "code",
      "metadata": {
        "id": "d6jjeFso9YDQ",
        "colab_type": "code",
        "colab": {
          "base_uri": "https://localhost:8080/",
          "height": 208
        },
        "outputId": "d16eb692-6488-4773-fcdc-5f9e66dadf83"
      },
      "source": [
        "from pyspark.ml.linalg import Vectors \n",
        "from pyspark.ml.feature import VectorAssembler \n",
        "#creating vectors from features \n",
        "#Apache MLlib takes input if vector form \n",
        "assembler=VectorAssembler(inputCols=['Age', \n",
        " 'Tonnage', \n",
        " 'passengers', \n",
        " 'length', \n",
        " 'cabins', \n",
        " 'passenger_density', \n",
        " 'cruise_cat'],outputCol='features') \n",
        "output=assembler.transform(indexed) \n",
        "output.select('features','crew').show(5) \n",
        "#output as below "
      ],
      "execution_count": 14,
      "outputs": [
        {
          "output_type": "stream",
          "text": [
            "+--------------------+----+\n",
            "|            features|crew|\n",
            "+--------------------+----+\n",
            "|[6.0,30.276999999...|3.55|\n",
            "|[6.0,30.276999999...|3.55|\n",
            "|[26.0,47.262,14.8...| 6.7|\n",
            "|[11.0,110.0,29.74...|19.1|\n",
            "|[17.0,101.353,26....|10.0|\n",
            "+--------------------+----+\n",
            "only showing top 5 rows\n",
            "\n"
          ],
          "name": "stdout"
        }
      ]
    },
    {
      "cell_type": "code",
      "metadata": {
        "id": "s70QrxMn9j12",
        "colab_type": "code",
        "colab": {
          "base_uri": "https://localhost:8080/",
          "height": 191
        },
        "outputId": "ea172dcd-e894-44cd-a0df-f0ccce4d73f8"
      },
      "source": [
        "#final data consist of features and label which is crew. \n",
        "final_data=output.select('features','crew') \n",
        "#splitting data into train and test \n",
        "train_data,test_data=final_data.randomSplit([0.7,0.3]) \n",
        "train_data.describe().show()"
      ],
      "execution_count": 15,
      "outputs": [
        {
          "output_type": "stream",
          "text": [
            "+-------+------------------+\n",
            "|summary|              crew|\n",
            "+-------+------------------+\n",
            "|  count|               109|\n",
            "|   mean| 7.733302752293589|\n",
            "| stddev|3.6461222564999387|\n",
            "|    min|              0.59|\n",
            "|    max|              21.0|\n",
            "+-------+------------------+\n",
            "\n"
          ],
          "name": "stdout"
        }
      ]
    },
    {
      "cell_type": "code",
      "metadata": {
        "id": "xknZcCOq9j7V",
        "colab_type": "code",
        "colab": {
          "base_uri": "https://localhost:8080/",
          "height": 191
        },
        "outputId": "4f8832bb-09ce-4fff-b3e8-8ce366760e4a"
      },
      "source": [
        "test_data.describe().show() "
      ],
      "execution_count": 16,
      "outputs": [
        {
          "output_type": "stream",
          "text": [
            "+-------+------------------+\n",
            "|summary|              crew|\n",
            "+-------+------------------+\n",
            "|  count|                49|\n",
            "|   mean| 7.929591836734693|\n",
            "| stddev|3.1950703951449926|\n",
            "|    min|              0.88|\n",
            "|    max|              13.6|\n",
            "+-------+------------------+\n",
            "\n"
          ],
          "name": "stdout"
        }
      ]
    },
    {
      "cell_type": "code",
      "metadata": {
        "id": "baKtlCL59kAh",
        "colab_type": "code",
        "colab": {
          "base_uri": "https://localhost:8080/",
          "height": 35
        },
        "outputId": "0bcfba6a-d818-4f55-af07-bb5a5e42e999"
      },
      "source": [
        "#import LinearRegression library \n",
        "from pyspark.ml.regression import LinearRegression \n",
        "#creating an object of class LinearRegression \n",
        "#object takes features and label as input arguments \n",
        "ship_lr=LinearRegression(featuresCol='features',labelCol='crew') \n",
        "#pass train_data to train model \n",
        "trained_ship_model=ship_lr.fit(train_data) \n",
        "#evaluating model trained for Rsquared error \n",
        "ship_results=trained_ship_model.evaluate(train_data) \n",
        "  \n",
        "print('Rsquared Error :',ship_results.r2) \n",
        "#R2 value shows accuracy of model is 92% \n",
        "#model accuracy is very good and can be use for predictive analysis "
      ],
      "execution_count": 17,
      "outputs": [
        {
          "output_type": "stream",
          "text": [
            "Rsquared Error : 0.9192641497121865\n"
          ],
          "name": "stdout"
        }
      ]
    },
    {
      "cell_type": "code",
      "metadata": {
        "id": "vSGdDTFF9kF7",
        "colab_type": "code",
        "colab": {
          "base_uri": "https://localhost:8080/",
          "height": 208
        },
        "outputId": "e0c24f9d-d53f-4972-8fae-c0a38671286f"
      },
      "source": [
        "#testing Model on unlabeled data \n",
        "#create unlabeled data from test_data \n",
        "#testing model on unlabeled data \n",
        "unlabeled_data=test_data.select('features') \n",
        "unlabeled_data.show(5) "
      ],
      "execution_count": 18,
      "outputs": [
        {
          "output_type": "stream",
          "text": [
            "+--------------------+\n",
            "|            features|\n",
            "+--------------------+\n",
            "|[6.0,90.0,20.0,9....|\n",
            "|[6.0,110.23899999...|\n",
            "|[6.0,112.0,38.0,9...|\n",
            "|[6.0,113.0,37.82,...|\n",
            "|[6.0,158.0,43.7,1...|\n",
            "+--------------------+\n",
            "only showing top 5 rows\n",
            "\n"
          ],
          "name": "stdout"
        }
      ]
    },
    {
      "cell_type": "code",
      "metadata": {
        "id": "Hwf7teED9kDT",
        "colab_type": "code",
        "colab": {
          "base_uri": "https://localhost:8080/",
          "height": 468
        },
        "outputId": "1b20bd84-38a2-417d-9169-6e239c70c286"
      },
      "source": [
        "predictions=trained_ship_model.transform(unlabeled_data) \n",
        "predictions.show() \n",
        "#below are the results of output from test data "
      ],
      "execution_count": 19,
      "outputs": [
        {
          "output_type": "stream",
          "text": [
            "+--------------------+------------------+\n",
            "|            features|        prediction|\n",
            "+--------------------+------------------+\n",
            "|[6.0,90.0,20.0,9....|10.085183395990937|\n",
            "|[6.0,110.23899999...|11.041930487908328|\n",
            "|[6.0,112.0,38.0,9...|11.282734936034396|\n",
            "|[6.0,113.0,37.82,...|11.624760178680154|\n",
            "|[6.0,158.0,43.7,1...|13.942724164619564|\n",
            "|[8.0,77.499,19.5,...| 8.498483178246657|\n",
            "|[8.0,91.0,22.44,9...|10.052075733830627|\n",
            "|[9.0,81.0,21.44,9...| 9.488605999652357|\n",
            "|[9.0,113.0,26.74,...|11.355149881091215|\n",
            "|[9.0,113.0,26.74,...|11.355149881091215|\n",
            "|[10.0,46.0,7.0,6....|2.5964752951506616|\n",
            "|[10.0,58.825,15.6...| 7.236968156525389|\n",
            "|[10.0,86.0,21.14,...| 9.653372184504596|\n",
            "|[10.0,91.62700000...|  9.11364728891679|\n",
            "|[10.0,138.0,31.14...|13.050707392547716|\n",
            "|[11.0,90.0,22.4,9...|10.026937764976722|\n",
            "|[11.0,138.0,31.14...| 13.04950076469163|\n",
            "|[12.0,50.0,7.0,7....| 4.234312150109949|\n",
            "|[12.0,88.5,21.24,...|10.337008070177365|\n",
            "|[12.0,91.0,20.32,...|   9.1868695542363|\n",
            "+--------------------+------------------+\n",
            "only showing top 20 rows\n",
            "\n"
          ],
          "name": "stdout"
        }
      ]
    },
    {
      "cell_type": "code",
      "metadata": {
        "id": "1IgkWJu29j98",
        "colab_type": "code",
        "colab": {}
      },
      "source": [
        ""
      ],
      "execution_count": null,
      "outputs": []
    },
    {
      "cell_type": "code",
      "metadata": {
        "id": "k2cPVt4I9j4r",
        "colab_type": "code",
        "colab": {}
      },
      "source": [
        ""
      ],
      "execution_count": null,
      "outputs": []
    },
    {
      "cell_type": "code",
      "metadata": {
        "id": "aDc7g3ot9jy1",
        "colab_type": "code",
        "colab": {}
      },
      "source": [
        ""
      ],
      "execution_count": null,
      "outputs": []
    }
  ]
}